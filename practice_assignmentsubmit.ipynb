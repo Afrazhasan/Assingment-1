{
 "cells": [
  {
   "cell_type": "code",
   "execution_count": 1,
   "metadata": {},
   "outputs": [
    {
     "name": "stdout",
     "output_type": "stream",
     "text": [
      "Your First Number : 5\n",
      "Your First Number : 5\n",
      "Your First Number : 5\n",
      "Your First Number : 5\n",
      "Your First Number : 5\n",
      "Your First Number : 6\n",
      "Your First Number : 8\n",
      "[5, 5, 5, 5, 5, 6, 8]\n",
      "Output 39\n"
     ]
    }
   ],
   "source": [
    "num1=int(input(\"Your First Number : \"))\n",
    "num2=int(input(\"Your First Number : \"))\n",
    "num3=int(input(\"Your First Number : \"))\n",
    "num4=int(input(\"Your First Number : \"))\n",
    "num5=int(input(\"Your First Number : \"))\n",
    "num6=int(input(\"Your First Number : \"))\n",
    "num7=int(input(\"Your First Number : \"))\n",
    "listing=[num1,num2,num3,num4,num5,num6,num7]\n",
    "print(listing)\n",
    "adding=num1+num2+num3+num4+num5+num6+num7\n",
    "print(\"Output\",adding)"
   ]
  },
  {
   "cell_type": "code",
   "execution_count": 2,
   "metadata": {},
   "outputs": [
    {
     "name": "stdout",
     "output_type": "stream",
     "text": [
      "Starts from : 1\n",
      "end at : 10\n",
      "1\n",
      "4\n",
      "9\n",
      "16\n",
      "25\n",
      "36\n",
      "49\n",
      "64\n",
      "81\n",
      "100\n",
      "total 385\n"
     ]
    }
   ],
   "source": [
    "starting=int(input(\"Starts from : \"))\n",
    "ending=int(input(\"end at : \"))\n",
    "am=0\n",
    "for a in range(starting,ending+1):\n",
    "    y=pow(a,2)\n",
    "    print(y)\n",
    "    am=am+pow(a,2)\n",
    "print(\"total\",am)"
   ]
  },
  {
   "cell_type": "code",
   "execution_count": 8,
   "metadata": {},
   "outputs": [
    {
     "name": "stdout",
     "output_type": "stream",
     "text": [
      "Input number6\n",
      "0\n",
      "1\n",
      "1\n",
      "2\n",
      "3\n",
      "5\n"
     ]
    }
   ],
   "source": [
    "def numbers(inputts):\n",
    "    a=0\n",
    "    b=1\n",
    "    print(a)\n",
    "    print(b)\n",
    "    \n",
    "    for i in range(2,inputts):\n",
    "        c=a+b\n",
    "        a=b\n",
    "        b=c\n",
    "        print(c)\n",
    "        \n",
    "        \n",
    "inputts=int(input(\"Input number\"))\n",
    "numbers(inputts)"
   ]
  },
  {
   "cell_type": "code",
   "execution_count": 9,
   "metadata": {},
   "outputs": [
    {
     "name": "stdout",
     "output_type": "stream",
     "text": [
      "input number7\n",
      "IS not fibonacci number\n"
     ]
    }
   ],
   "source": [
    "import math\n",
    "def is_fibonacci(n):\n",
    "    phi = 0.5 + 0.5 * math.sqrt(5.0)\n",
    "    a = phi * n\n",
    "    if abs(round(a) - a) < 1.0 / n:\n",
    "        print(n,\"Is febonacci number\")\n",
    "    else:\n",
    "        print(\"IS not fibonacci number\")\n",
    "   \n",
    "ye = int(input(\"input number\"))\n",
    "is_fibonacci(ye)"
   ]
  },
  {
   "cell_type": "code",
   "execution_count": 10,
   "metadata": {},
   "outputs": [
    {
     "name": "stdout",
     "output_type": "stream",
     "text": [
      "give number : 6\n",
      "factorial of  6  is:  720\n"
     ]
    }
   ],
   "source": [
    "n = int(input(\"give number : \"))\n",
    "fact = 1\n",
    "  \n",
    "for i in range(1,n+1): \n",
    "    fact = fact * i\n",
    "      \n",
    " \n",
    "print (\"factorial of \",n,\" is: \",fact)"
   ]
  },
  {
   "cell_type": "code",
   "execution_count": 11,
   "metadata": {},
   "outputs": [
    {
     "name": "stdout",
     "output_type": "stream",
     "text": [
      "give number : 6\n",
      "720\n"
     ]
    }
   ],
   "source": [
    "#OR\n",
    "n = int(input(\"give number : \"))\n",
    "print(math.factorial(n))"
   ]
  },
  {
   "cell_type": "code",
   "execution_count": 15,
   "metadata": {},
   "outputs": [
    {
     "name": "stdout",
     "output_type": "stream",
     "text": [
      "MAX :  7834\n",
      "MIN :  3\n"
     ]
    },
    {
     "data": {
      "text/plain": [
       "[3, 4, 5, 5, 6, 7, 8, 9, 10, 345, 234, 6, 7834, 678]"
      ]
     },
     "execution_count": 15,
     "metadata": {},
     "output_type": "execute_result"
    }
   ],
   "source": [
    "listing=[3,4,5,5,6,7,8,9,10,345,234,6,7834,678,]\n",
    "y=(max(listing))\n",
    "z=(min(listing))\n",
    "print(\"MAX : \",y)\n",
    "print(\"MIN : \",z)\n",
    "listing"
   ]
  },
  {
   "cell_type": "code",
   "execution_count": 16,
   "metadata": {},
   "outputs": [
    {
     "name": "stdout",
     "output_type": "stream",
     "text": [
      "positive numbers are:  5\n",
      "negative numbers are:  7\n"
     ]
    }
   ],
   "source": [
    "numbers=[-1,-3,12,95,-99,76,4,2,-55,-23,-34,-45]\n",
    "counta=0\n",
    "neg=0\n",
    "for yo in numbers:\n",
    "    if yo>0:\n",
    "        counta+=1\n",
    "        \n",
    "    else:\n",
    "        neg +=1\n",
    "print(\"positive numbers are: \",counta)\n",
    "print(\"negative numbers are: \",neg)\n",
    "        "
   ]
  },
  {
   "cell_type": "code",
   "execution_count": 17,
   "metadata": {},
   "outputs": [
    {
     "name": "stdout",
     "output_type": "stream",
     "text": [
      "Palindrome check : mom\n",
      "this is palindrome :  mom\n"
     ]
    }
   ],
   "source": [
    "yo= input(\"Palindrome check : \")\n",
    "e=yo[::-1]\n",
    "if e==yo:\n",
    "    print(\"this is palindrome : \",yo)\n",
    "else:\n",
    "    print(\"this is not palindrome \")"
   ]
  },
  {
   "cell_type": "code",
   "execution_count": null,
   "metadata": {},
   "outputs": [],
   "source": []
  },
  {
   "cell_type": "code",
   "execution_count": null,
   "metadata": {},
   "outputs": [],
   "source": []
  }
 ],
 "metadata": {
  "kernelspec": {
   "display_name": "Python 3",
   "language": "python",
   "name": "python3"
  },
  "language_info": {
   "codemirror_mode": {
    "name": "ipython",
    "version": 3
   },
   "file_extension": ".py",
   "mimetype": "text/x-python",
   "name": "python",
   "nbconvert_exporter": "python",
   "pygments_lexer": "ipython3",
   "version": "3.7.4"
  }
 },
 "nbformat": 4,
 "nbformat_minor": 2
}
